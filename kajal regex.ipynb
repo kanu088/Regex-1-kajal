{
 "cells": [
  {
   "cell_type": "markdown",
   "id": "52c4827d",
   "metadata": {},
   "source": [
    "# Regular Expression Project Work\n"
   ]
  },
  {
   "cell_type": "code",
   "execution_count": 4,
   "id": "84f14239",
   "metadata": {},
   "outputs": [],
   "source": []
  },
  {
   "cell_type": "markdown",
   "id": "04799350",
   "metadata": {},
   "source": [
    "question 1"
   ]
  },
  {
   "cell_type": "code",
   "execution_count": 19,
   "id": "009229c2",
   "metadata": {},
   "outputs": [],
   "source": [
    "import re"
   ]
  },
  {
   "cell_type": "code",
   "execution_count": 12,
   "id": "08726bd3",
   "metadata": {},
   "outputs": [],
   "source": [
    "text='Python Exercises, PHP exercises.'"
   ]
  },
  {
   "cell_type": "code",
   "execution_count": 25,
   "id": "d10ef00d",
   "metadata": {},
   "outputs": [
    {
     "name": "stdout",
     "output_type": "stream",
     "text": [
      "Python:Exercises::PHP:exercises:\n"
     ]
    }
   ],
   "source": [
    "\n",
    "print(re.sub(\"[ ,.]\", \":\", text))"
   ]
  },
  {
   "cell_type": "code",
   "execution_count": 14,
   "id": "3de65a87",
   "metadata": {},
   "outputs": [],
   "source": [
    "import pandas as pd"
   ]
  },
  {
   "cell_type": "code",
   "execution_count": 15,
   "id": "74b16c98",
   "metadata": {},
   "outputs": [],
   "source": [
    "import re"
   ]
  },
  {
   "cell_type": "markdown",
   "id": "545e1ebd",
   "metadata": {},
   "source": [
    "question 2"
   ]
  },
  {
   "cell_type": "code",
   "execution_count": 28,
   "id": "9ebf1f73",
   "metadata": {},
   "outputs": [],
   "source": [
    "data = {'SUMMARY' : ['hello, world!', 'XXXXX test', '123four, five:; six...']}"
   ]
  },
  {
   "cell_type": "code",
   "execution_count": 30,
   "id": "966190cf",
   "metadata": {},
   "outputs": [
    {
     "data": {
      "text/html": [
       "<div>\n",
       "<style scoped>\n",
       "    .dataframe tbody tr th:only-of-type {\n",
       "        vertical-align: middle;\n",
       "    }\n",
       "\n",
       "    .dataframe tbody tr th {\n",
       "        vertical-align: top;\n",
       "    }\n",
       "\n",
       "    .dataframe thead th {\n",
       "        text-align: right;\n",
       "    }\n",
       "</style>\n",
       "<table border=\"1\" class=\"dataframe\">\n",
       "  <thead>\n",
       "    <tr style=\"text-align: right;\">\n",
       "      <th></th>\n",
       "      <th>SUMMARY</th>\n",
       "    </tr>\n",
       "  </thead>\n",
       "  <tbody>\n",
       "    <tr>\n",
       "      <th>0</th>\n",
       "      <td>hello, world!</td>\n",
       "    </tr>\n",
       "    <tr>\n",
       "      <th>1</th>\n",
       "      <td>XXXXX test</td>\n",
       "    </tr>\n",
       "    <tr>\n",
       "      <th>2</th>\n",
       "      <td>123four, five:; six...</td>\n",
       "    </tr>\n",
       "  </tbody>\n",
       "</table>\n",
       "</div>"
      ],
      "text/plain": [
       "                  SUMMARY\n",
       "0           hello, world!\n",
       "1              XXXXX test\n",
       "2  123four, five:; six..."
      ]
     },
     "execution_count": 30,
     "metadata": {},
     "output_type": "execute_result"
    }
   ],
   "source": [
    "df = pd.DataFrame(data)\n",
    "df"
   ]
  },
  {
   "cell_type": "code",
   "execution_count": null,
   "id": "140be7d4",
   "metadata": {},
   "outputs": [],
   "source": []
  },
  {
   "cell_type": "markdown",
   "id": "11a9e83d",
   "metadata": {},
   "source": [
    "question 3"
   ]
  },
  {
   "cell_type": "code",
   "execution_count": 37,
   "id": "7dab25d2",
   "metadata": {},
   "outputs": [],
   "source": [
    "import re"
   ]
  },
  {
   "cell_type": "code",
   "execution_count": 44,
   "id": "3de3f622",
   "metadata": {},
   "outputs": [
    {
     "name": "stdout",
     "output_type": "stream",
     "text": [
      "Match object: ['quick', 'brown', 'jump', 'over', 'lazy']\n"
     ]
    }
   ],
   "source": [
    "target_string = 'The quick brown fox jump over the lazy dog'\n",
    "result = re.findall(r\"\\w{4,}\",target_string)\n",
    "\n",
    "print(\"Match object:\", result)"
   ]
  },
  {
   "cell_type": "markdown",
   "id": "bd93ad4d",
   "metadata": {},
   "source": [
    "question 4"
   ]
  },
  {
   "cell_type": "code",
   "execution_count": 45,
   "id": "131e1772",
   "metadata": {},
   "outputs": [
    {
     "name": "stdout",
     "output_type": "stream",
     "text": [
      "Match object: ['The', 'quick', 'brown', 'fox', 'jump', 'over', 'the', 'lazy', 'dog']\n"
     ]
    }
   ],
   "source": [
    "target_string = 'The quick brown fox jump over the lazy dog'\n",
    "result = re.findall(r\"\\w{3,5}\",target_string)\n",
    "\n",
    "print(\"Match object:\", result)"
   ]
  },
  {
   "cell_type": "markdown",
   "id": "2e31573c",
   "metadata": {},
   "source": [
    "question 5"
   ]
  },
  {
   "cell_type": "code",
   "execution_count": 61,
   "id": "e1d253be",
   "metadata": {},
   "outputs": [
    {
     "ename": "SyntaxError",
     "evalue": "unterminated string literal (detected at line 1) (3138959430.py, line 1)",
     "output_type": "error",
     "traceback": [
      "\u001b[1;36m  Cell \u001b[1;32mIn[61], line 1\u001b[1;36m\u001b[0m\n\u001b[1;33m    target string = '[\"example (.com)\", \"hr@fliprobo (.com)\", \"github (.com)\", \"Hello (Data Science World)\", \"Data (Scientist)\"]''\u001b[0m\n\u001b[1;37m                                                                                                                                 ^\u001b[0m\n\u001b[1;31mSyntaxError\u001b[0m\u001b[1;31m:\u001b[0m unterminated string literal (detected at line 1)\n"
     ]
    }
   ],
   "source": [
    "target string = '[\"example (.com)\", \"hr@fliprobo (.com)\", \"github (.com)\", \"Hello (Data Science World)\", \"Data (Scientist)\"]''\n",
    "result = re.sub(r\"[()]\", \"\",target string)\n",
    "\n",
    "print(result)\n"
   ]
  },
  {
   "cell_type": "markdown",
   "id": "f568ec6a",
   "metadata": {},
   "source": [
    "question 7"
   ]
  },
  {
   "cell_type": "code",
   "execution_count": 62,
   "id": "f40be9e7",
   "metadata": {},
   "outputs": [
    {
     "name": "stdout",
     "output_type": "stream",
     "text": [
      "['Importance', 'Of', 'Regular', 'Expressions', 'In', 'Python']\n"
     ]
    }
   ],
   "source": [
    "text = 'ImportanceOfRegularExpressionsInPython'\n",
    "\n",
    "result = re.findall('[A-z][a-z]*', text)\n",
    "print(result)"
   ]
  },
  {
   "cell_type": "markdown",
   "id": "f2339fe8",
   "metadata": {},
   "source": [
    "\n",
    "Question 8- Create a function in python to insert spaces between words starting with numbers.\n",
    "Sample Text: “RegularExpression1IsAn2ImportantTopic3InPython\"\n",
    "Expected Output: RegularExpression 1IsAn 2ImportantTopic 3InPython\n"
   ]
  },
  {
   "cell_type": "code",
   "execution_count": 101,
   "id": "f4123d23",
   "metadata": {},
   "outputs": [
    {
     "ename": "error",
     "evalue": "unbalanced parenthesis at position 15",
     "output_type": "error",
     "traceback": [
      "\u001b[1;31m---------------------------------------------------------------------------\u001b[0m",
      "\u001b[1;31merror\u001b[0m                                     Traceback (most recent call last)",
      "Cell \u001b[1;32mIn[101], line 3\u001b[0m\n\u001b[0;32m      1\u001b[0m string \u001b[38;5;241m=\u001b[39m \u001b[38;5;124m'\u001b[39m\u001b[38;5;124mRegularExpression1IsAn2ImportantTopic3InPython\u001b[39m\u001b[38;5;124m'\u001b[39m\n\u001b[0;32m      2\u001b[0m pattern \u001b[38;5;241m=\u001b[39m \u001b[38;5;124mr\u001b[39m\u001b[38;5;124m'\u001b[39m\u001b[38;5;124m(\u001b[39m\u001b[38;5;124m\\\u001b[39m\u001b[38;5;124md+),[A-Za-z]+)\u001b[39m\u001b[38;5;124m'\u001b[39m\n\u001b[1;32m----> 3\u001b[0m result \u001b[38;5;241m=\u001b[39m re\u001b[38;5;241m.\u001b[39msub(pattern, \u001b[38;5;124mr\u001b[39m\u001b[38;5;124m'\u001b[39m\u001b[38;5;124m\\\u001b[39m\u001b[38;5;124m1\u001b[39m\u001b[38;5;124m\\\u001b[39m\u001b[38;5;124m2\u001b[39m\u001b[38;5;124m'\u001b[39m, string)\n\u001b[0;32m      4\u001b[0m \u001b[38;5;28mprint\u001b[39m(result)\n",
      "File \u001b[1;32m~\\anaconda3\\Lib\\re\\__init__.py:185\u001b[0m, in \u001b[0;36msub\u001b[1;34m(pattern, repl, string, count, flags)\u001b[0m\n\u001b[0;32m    178\u001b[0m \u001b[38;5;28;01mdef\u001b[39;00m \u001b[38;5;21msub\u001b[39m(pattern, repl, string, count\u001b[38;5;241m=\u001b[39m\u001b[38;5;241m0\u001b[39m, flags\u001b[38;5;241m=\u001b[39m\u001b[38;5;241m0\u001b[39m):\n\u001b[0;32m    179\u001b[0m \u001b[38;5;250m    \u001b[39m\u001b[38;5;124;03m\"\"\"Return the string obtained by replacing the leftmost\u001b[39;00m\n\u001b[0;32m    180\u001b[0m \u001b[38;5;124;03m    non-overlapping occurrences of the pattern in string by the\u001b[39;00m\n\u001b[0;32m    181\u001b[0m \u001b[38;5;124;03m    replacement repl.  repl can be either a string or a callable;\u001b[39;00m\n\u001b[0;32m    182\u001b[0m \u001b[38;5;124;03m    if a string, backslash escapes in it are processed.  If it is\u001b[39;00m\n\u001b[0;32m    183\u001b[0m \u001b[38;5;124;03m    a callable, it's passed the Match object and must return\u001b[39;00m\n\u001b[0;32m    184\u001b[0m \u001b[38;5;124;03m    a replacement string to be used.\"\"\"\u001b[39;00m\n\u001b[1;32m--> 185\u001b[0m     \u001b[38;5;28;01mreturn\u001b[39;00m _compile(pattern, flags)\u001b[38;5;241m.\u001b[39msub(repl, string, count)\n",
      "File \u001b[1;32m~\\anaconda3\\Lib\\re\\__init__.py:294\u001b[0m, in \u001b[0;36m_compile\u001b[1;34m(pattern, flags)\u001b[0m\n\u001b[0;32m    288\u001b[0m     \u001b[38;5;28;01mimport\u001b[39;00m \u001b[38;5;21;01mwarnings\u001b[39;00m\n\u001b[0;32m    289\u001b[0m     warnings\u001b[38;5;241m.\u001b[39mwarn(\u001b[38;5;124m\"\u001b[39m\u001b[38;5;124mThe re.TEMPLATE/re.T flag is deprecated \u001b[39m\u001b[38;5;124m\"\u001b[39m\n\u001b[0;32m    290\u001b[0m               \u001b[38;5;124m\"\u001b[39m\u001b[38;5;124mas it is an undocumented flag \u001b[39m\u001b[38;5;124m\"\u001b[39m\n\u001b[0;32m    291\u001b[0m               \u001b[38;5;124m\"\u001b[39m\u001b[38;5;124mwithout an obvious purpose. \u001b[39m\u001b[38;5;124m\"\u001b[39m\n\u001b[0;32m    292\u001b[0m               \u001b[38;5;124m\"\u001b[39m\u001b[38;5;124mDon\u001b[39m\u001b[38;5;124m'\u001b[39m\u001b[38;5;124mt use it.\u001b[39m\u001b[38;5;124m\"\u001b[39m,\n\u001b[0;32m    293\u001b[0m               \u001b[38;5;167;01mDeprecationWarning\u001b[39;00m)\n\u001b[1;32m--> 294\u001b[0m p \u001b[38;5;241m=\u001b[39m _compiler\u001b[38;5;241m.\u001b[39mcompile(pattern, flags)\n\u001b[0;32m    295\u001b[0m \u001b[38;5;28;01mif\u001b[39;00m \u001b[38;5;129;01mnot\u001b[39;00m (flags \u001b[38;5;241m&\u001b[39m DEBUG):\n\u001b[0;32m    296\u001b[0m     \u001b[38;5;28;01mif\u001b[39;00m \u001b[38;5;28mlen\u001b[39m(_cache) \u001b[38;5;241m>\u001b[39m\u001b[38;5;241m=\u001b[39m _MAXCACHE:\n\u001b[0;32m    297\u001b[0m         \u001b[38;5;66;03m# Drop the oldest item\u001b[39;00m\n",
      "File \u001b[1;32m~\\anaconda3\\Lib\\re\\_compiler.py:743\u001b[0m, in \u001b[0;36mcompile\u001b[1;34m(p, flags)\u001b[0m\n\u001b[0;32m    741\u001b[0m \u001b[38;5;28;01mif\u001b[39;00m isstring(p):\n\u001b[0;32m    742\u001b[0m     pattern \u001b[38;5;241m=\u001b[39m p\n\u001b[1;32m--> 743\u001b[0m     p \u001b[38;5;241m=\u001b[39m _parser\u001b[38;5;241m.\u001b[39mparse(p, flags)\n\u001b[0;32m    744\u001b[0m \u001b[38;5;28;01melse\u001b[39;00m:\n\u001b[0;32m    745\u001b[0m     pattern \u001b[38;5;241m=\u001b[39m \u001b[38;5;28;01mNone\u001b[39;00m\n",
      "File \u001b[1;32m~\\anaconda3\\Lib\\re\\_parser.py:985\u001b[0m, in \u001b[0;36mparse\u001b[1;34m(str, flags, state)\u001b[0m\n\u001b[0;32m    983\u001b[0m \u001b[38;5;28;01mif\u001b[39;00m source\u001b[38;5;241m.\u001b[39mnext \u001b[38;5;129;01mis\u001b[39;00m \u001b[38;5;129;01mnot\u001b[39;00m \u001b[38;5;28;01mNone\u001b[39;00m:\n\u001b[0;32m    984\u001b[0m     \u001b[38;5;28;01massert\u001b[39;00m source\u001b[38;5;241m.\u001b[39mnext \u001b[38;5;241m==\u001b[39m \u001b[38;5;124m\"\u001b[39m\u001b[38;5;124m)\u001b[39m\u001b[38;5;124m\"\u001b[39m\n\u001b[1;32m--> 985\u001b[0m     \u001b[38;5;28;01mraise\u001b[39;00m source\u001b[38;5;241m.\u001b[39merror(\u001b[38;5;124m\"\u001b[39m\u001b[38;5;124munbalanced parenthesis\u001b[39m\u001b[38;5;124m\"\u001b[39m)\n\u001b[0;32m    987\u001b[0m \u001b[38;5;28;01mfor\u001b[39;00m g \u001b[38;5;129;01min\u001b[39;00m p\u001b[38;5;241m.\u001b[39mstate\u001b[38;5;241m.\u001b[39mgrouprefpos:\n\u001b[0;32m    988\u001b[0m     \u001b[38;5;28;01mif\u001b[39;00m g \u001b[38;5;241m>\u001b[39m\u001b[38;5;241m=\u001b[39m p\u001b[38;5;241m.\u001b[39mstate\u001b[38;5;241m.\u001b[39mgroups:\n",
      "\u001b[1;31merror\u001b[0m: unbalanced parenthesis at position 15"
     ]
    }
   ],
   "source": [
    "string = 'RegularExpression1IsAn2ImportantTopic3InPython'\n",
    "pattern = r'(\\d+),[A-Za-z]+)'\n",
    "result = re.sub(pattern, r'\\1\\2', string)\n",
    "print(result)"
   ]
  },
  {
   "cell_type": "markdown",
   "id": "dee6c952",
   "metadata": {},
   "source": [
    "Question 11- Write a Python program to match a string that contains only upper and lowercase letters, numbers, and underscores."
   ]
  },
  {
   "cell_type": "code",
   "execution_count": null,
   "id": "30bdc160",
   "metadata": {},
   "outputs": [],
   "source": []
  },
  {
   "cell_type": "code",
   "execution_count": null,
   "id": "728a3bc2",
   "metadata": {},
   "outputs": [],
   "source": []
  },
  {
   "cell_type": "markdown",
   "id": "877963b5",
   "metadata": {},
   "source": [
    "question 22"
   ]
  },
  {
   "cell_type": "code",
   "execution_count": 98,
   "id": "46ea4849",
   "metadata": {},
   "outputs": [
    {
     "name": "stdout",
     "output_type": "stream",
     "text": [
      "950\n"
     ]
    }
   ],
   "source": [
    "string = 'My marks in each semester are: 947, 896, 926, 524, 734, 950, 642'\n",
    "\n",
    "result = re.findall(\"\\d+\", string)\n",
    "result = [int(value) for value in result]\n",
    "max_value = max(result)\n",
    "print (max_value)"
   ]
  },
  {
   "cell_type": "markdown",
   "id": "dd2002a3",
   "metadata": {},
   "source": [
    "Question 15- Write a Python program to search some literals strings in a string. \n",
    "Sample text : 'The quick brown fox jumps over the lazy dog.'\n",
    "Searched words : 'fox', 'dog', 'horse'\n"
   ]
  },
  {
   "cell_type": "code",
   "execution_count": 80,
   "id": "5f6eaa78",
   "metadata": {},
   "outputs": [
    {
     "ename": "TypeError",
     "evalue": "search() takes from 2 to 3 positional arguments but 4 were given",
     "output_type": "error",
     "traceback": [
      "\u001b[1;31m---------------------------------------------------------------------------\u001b[0m",
      "\u001b[1;31mTypeError\u001b[0m                                 Traceback (most recent call last)",
      "Cell \u001b[1;32mIn[80], line 2\u001b[0m\n\u001b[0;32m      1\u001b[0m text \u001b[38;5;241m=\u001b[39m \u001b[38;5;124m'\u001b[39m\u001b[38;5;124mThe quick brown fox jumps over the lazy dog.\u001b[39m\u001b[38;5;124m'\u001b[39m\n\u001b[1;32m----> 2\u001b[0m search \u001b[38;5;241m=\u001b[39m re\u001b[38;5;241m.\u001b[39msearch(\u001b[38;5;124m\"\u001b[39m\u001b[38;5;124mfox\u001b[39m\u001b[38;5;124m\"\u001b[39m, \u001b[38;5;124m\"\u001b[39m\u001b[38;5;124mdog\u001b[39m\u001b[38;5;124m\"\u001b[39m, \u001b[38;5;124m\"\u001b[39m\u001b[38;5;124mhorse\u001b[39m\u001b[38;5;124m\"\u001b[39m, text)\n\u001b[0;32m      3\u001b[0m \u001b[38;5;28mprint\u001b[39m(search)\n",
      "\u001b[1;31mTypeError\u001b[0m: search() takes from 2 to 3 positional arguments but 4 were given"
     ]
    }
   ],
   "source": [
    "text = 'The quick brown fox jumps over the lazy dog.'\n",
    "search = re.search(\"fox\", \"dog\", \"horse\", text)\n",
    "print(search)\n",
    "\n"
   ]
  },
  {
   "cell_type": "code",
   "execution_count": null,
   "id": "8ba2c422",
   "metadata": {},
   "outputs": [],
   "source": []
  }
 ],
 "metadata": {
  "kernelspec": {
   "display_name": "Python 3 (ipykernel)",
   "language": "python",
   "name": "python3"
  },
  "language_info": {
   "codemirror_mode": {
    "name": "ipython",
    "version": 3
   },
   "file_extension": ".py",
   "mimetype": "text/x-python",
   "name": "python",
   "nbconvert_exporter": "python",
   "pygments_lexer": "ipython3",
   "version": "3.11.3"
  }
 },
 "nbformat": 4,
 "nbformat_minor": 5
}
